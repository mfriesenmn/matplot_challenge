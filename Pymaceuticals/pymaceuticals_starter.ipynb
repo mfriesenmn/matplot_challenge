{
 "cells": [
  {
   "cell_type": "markdown",
   "metadata": {},
   "source": [
    "## Observations and Insights "
   ]
  },
  {
   "cell_type": "markdown",
   "metadata": {},
   "source": []
  },
  {
   "cell_type": "code",
   "execution_count": null,
   "metadata": {
    "scrolled": false
   },
   "outputs": [],
   "source": [
    "# Dependencies and Setup\n",
    "import matplotlib.pyplot as plt\n",
    "import pandas as pd\n",
    "import scipy.stats as st\n",
    "import seaborn as sns\n",
    "import numpy as np\n",
    "sns.set_style(\"darkgrid\")\n",
    "\n",
    "# Study data files\n",
    "mouse_metadata_path = \"data/Mouse_metadata.csv\"\n",
    "study_results_path = \"data/Study_results.csv\"\n",
    "\n",
    "# Read the mouse data and the study results\n",
    "mouse_metadata = pd.read_csv(mouse_metadata_path)\n",
    "study_results = pd.read_csv(study_results_path)\n",
    "\n",
    "# Combine the data into a single dataset\n",
    "merged_pd = pd.merge(mouse_metadata, study_results)\n",
    "\n",
    "# Display the data table for preview\n",
    "merged_pd"
   ]
  },
  {
   "cell_type": "code",
   "execution_count": null,
   "metadata": {},
   "outputs": [],
   "source": [
    "# Checking the number of mice.\n",
    "len(pd.unique(merged_pd['Mouse ID']))"
   ]
  },
  {
   "cell_type": "code",
   "execution_count": null,
   "metadata": {},
   "outputs": [],
   "source": [
    "# Getting the duplicate mice by ID number that shows up for Mouse ID and Timepoint.\n",
    "print(f\"There are {len(mouse_metadata)} entries in Mouse MetaData and {len(study_results)} in Study Results\")\n",
    "nonDuplicate = []\n",
    "duplicate = []\n",
    "for index, row in study_results.iterrows():\n",
    "    isPresent = False;\n",
    "    for entry in nonDuplicate:\n",
    "        #print(row['Mouse ID'])\n",
    "        if (row['Mouse ID'] == entry['Mouse ID'] and row['Timepoint'] == entry['Timepoint']):\n",
    "            isPresent = True\n",
    "    if(isPresent):\n",
    "        duplicate.append(row)\n",
    "        print(f\"duplicate found: {row['Mouse ID']}\")\n",
    "    else:\n",
    "        nonDuplicate.append(row)\n",
    "\n",
    "print(f\"Detected {len(nonDuplicate)} unique entries for tumors, {len(duplicate)} duplicate entries\")"
   ]
  },
  {
   "cell_type": "code",
   "execution_count": null,
   "metadata": {},
   "outputs": [],
   "source": [
    "# Optional: Get all the data for the duplicate mouse ID. \n",
    "duplicate[0]"
   ]
  },
  {
   "cell_type": "code",
   "execution_count": null,
   "metadata": {},
   "outputs": [],
   "source": [
    "# Create a clean DataFrame by dropping the duplicate mouse by its ID.\n",
    "mouse_metadata = mouse_metadata[mouse_metadata['Mouse ID'] != \"g989\"]\n",
    "actual_merged_pd = pd.merge(mouse_metadata, pd.DataFrame(nonDuplicate))\n",
    "actual_merged_pd.head()"
   ]
  },
  {
   "cell_type": "code",
   "execution_count": null,
   "metadata": {},
   "outputs": [],
   "source": [
    "# Checking the number of mice in the clean DataFrame.\n",
    "len(pd.unique(actual_merged_pd['Mouse ID']))"
   ]
  },
  {
   "cell_type": "markdown",
   "metadata": {},
   "source": [
    "## Summary Statistics"
   ]
  },
  {
   "cell_type": "code",
   "execution_count": null,
   "metadata": {},
   "outputs": [],
   "source": [
    "# Generate a summary statistics table of mean, median, variance, standard deviation, and SEM of the tumor volume for each regimen\n",
    "mean = actual_merged_pd.groupby(by = \"Drug Regimen\").mean().drop(columns = [\"Age_months\",\"Weight (g)\", \"Timepoint\", \"Metastatic Sites\"])\n",
    "medianpd = actual_merged_pd.groupby(by = \"Drug Regimen\").median().drop(columns = [\"Age_months\",\"Weight (g)\", \"Timepoint\", \"Metastatic Sites\"])\n",
    "variancepd = actual_merged_pd.groupby(by = \"Drug Regimen\").var().drop(columns = [\"Age_months\",\"Weight (g)\", \"Timepoint\", \"Metastatic Sites\"])\n",
    "stdvpd = actual_merged_pd.groupby(by = \"Drug Regimen\").std().drop(columns = [\"Age_months\",\"Weight (g)\", \"Timepoint\", \"Metastatic Sites\"])\n",
    "sempd = actual_merged_pd.groupby(by = \"Drug Regimen\").sem().drop(columns = [\"Age_months\",\"Weight (g)\", \"Timepoint\", \"Metastatic Sites\"])\n",
    "\n",
    "# Use groupby and summary statistical methods to calculate the following properties of each drug regimen: \n",
    "# mean, median, variance, standard deviation, and SEM of the tumor volume. \n",
    "# Assemble the resulting series into a single summary dataframe.\n",
    "mean.columns = [\"Mean Volume\"]\n",
    "for stat in [(medianpd, 1, \"Median\"), (variancepd, 2, \"Variance\"), (stdvpd, 3, \"Standard Deviation\"), (sempd, 4, \"SEM\")]:\n",
    "    mean.insert(loc = stat[1], column = stat[2], value = list(stat[0][\"Tumor Volume (mm3)\"]))\n",
    "\n",
    "mean"
   ]
  },
  {
   "cell_type": "code",
   "execution_count": null,
   "metadata": {},
   "outputs": [],
   "source": [
    "# Generate a summary statistics table of mean, median, variance, standard deviation, and SEM of the tumor volume for each regimen\n",
    "# Using the aggregation method, produce the same summary statistics in a single line\n",
    "statsd = actual_merged_pd.groupby(by = \"Drug Regimen\")[\"Tumor Volume (mm3)\"].agg([\"mean\", \"median\", \"var\", \"std\", \"sem\"])"
   ]
  },
  {
   "cell_type": "markdown",
   "metadata": {},
   "source": [
    "## Bar and Pie Charts"
   ]
  },
  {
   "cell_type": "code",
   "execution_count": null,
   "metadata": {},
   "outputs": [],
   "source": [
    "# Generate a bar plot showing the total number of measurements taken on each drug regimen using pandas.\n",
    "measurementspd = actual_merged_pd.groupby(by = \"Drug Regimen\").agg(\"count\")\n",
    "measurementspd[\"Timepoint\"].plot.bar();"
   ]
  },
  {
   "cell_type": "code",
   "execution_count": null,
   "metadata": {},
   "outputs": [],
   "source": [
    "# Generate a bar plot showing the total number of measurements taken on each drug regimen using pyplot.\n",
    "plt.bar(x = list(measurementspd.index), height = measurementspd[\"Timepoint\"]);"
   ]
  },
  {
   "cell_type": "code",
   "execution_count": null,
   "metadata": {},
   "outputs": [],
   "source": [
    "# Generate a pie plot showing the distribution of female versus male mice using pandas\n",
    "mouseGender = mouse_metadata.groupby(by = \"Sex\").agg(\"count\")\n",
    "#mouseGender\n",
    "mouseGender.plot.pie(y = \"Mouse ID\")"
   ]
  },
  {
   "cell_type": "code",
   "execution_count": null,
   "metadata": {},
   "outputs": [],
   "source": [
    "# Generate a pie plot showing the distribution of female versus male mice using pyplot\n",
    "plt.pie(x = mouseGender[\"Mouse ID\"]);"
   ]
  },
  {
   "cell_type": "markdown",
   "metadata": {},
   "source": [
    "## Quartiles, Outliers and Boxplots"
   ]
  },
  {
   "cell_type": "code",
   "execution_count": null,
   "metadata": {},
   "outputs": [],
   "source": [
    "# Calculate the final tumor volume of each mouse across four of the treatment regimens:  \n",
    "# Capomulin, Ramicane, Infubinol, and Ceftamin\n",
    "drugs = [\"Capomulin\", \"Ramicane\", \"Infubinol\", \"Ceftamin\"]\n",
    "actual_merged_pd[\"Keep\"] = (actual_merged_pd[\"Drug Regimen\"].apply(lambda x: x in drugs))\n",
    "latest_Tumor = actual_merged_pd[actual_merged_pd[\"Keep\"] == True].drop(columns = [\"Keep\"])\n",
    "latest_Tumor = latest_Tumor.groupby(by = \"Mouse ID\").agg(\"max\")\n",
    "latest_Tumor.drop(columns = [\"Sex\", \"Tumor Volume (mm3)\",\"Metastatic Sites\", \"Age_months\"], inplace = True)\n",
    "latest_Tumor_size = study_results.merge(latest_Tumor, how=\"inner\", left_on = \"Mouse ID\", right_on = \"Mouse ID\", suffixes = (\"_Original\",\"_Filtered\"))\n",
    "latest_Tumor_size = latest_Tumor_size[latest_Tumor_size[\"Timepoint_Original\"]==latest_Tumor_size[\"Timepoint_Filtered\"]]\n",
    "#actual_merged_pd[actual_merged_pd[\"Drug Regimen\"] in drugs]\n",
    "# Start by getting the last (greatest) timepoint for each mouse\n",
    "# Merge this group df with the original dataframe to get the tumor volume at the last timepoint\n",
    "latest_Tumor_size.rename({\"Timepoint_Filtered\":\"Timepoint\"}, axis = 1, inplace = True)\n",
    "latest_Tumor_size.drop(columns = [\"Timepoint_Original\"], inplace = True)\n",
    "latest_Tumor_size\n"
   ]
  },
  {
   "cell_type": "code",
   "execution_count": null,
   "metadata": {},
   "outputs": [],
   "source": [
    "# Put treatments into a list for for loop (and later for plot labels)\n",
    "print(f\"Drugs: {drugs}\")\n",
    "#or did you mean:\n",
    "alldrugs = set(mouse_metadata[\"Drug Regimen\"])\n",
    "print(f\"The full list of drugs is: {alldrugs}\")\n",
    "\n",
    "# Create empty list to fill with tumor vol data (for plotting)\n",
    "tumor_volume_data = {}\n",
    "\n",
    "# Calculate the IQR and quantitatively determine if there are any potential outliers. \n",
    "\n",
    "    \n",
    "    # Locate the rows which contain mice on each drug and get the tumor volumes\n",
    "for drug in drugs:\n",
    "    tumor_volume_data[drug] = list(latest_Tumor_size[latest_Tumor_size[\"Drug Regimen\"] == drug][\"Tumor Volume (mm3)\"])\n",
    "    \n",
    "tumor_volume_data\n",
    "    # add subset \n",
    "    #I don't know what this even means\n",
    "    \n",
    "    # Determine outliers using upper and lower bounds\n",
    "outlier_tumors = {}\n",
    "outlier_tolerance = {}\n",
    "for drug in drugs:\n",
    "    outlier_tumors[drug] = []\n",
    "    iqr = st.iqr(latest_Tumor_size[latest_Tumor_size[\"Drug Regimen\"] == drug][\"Tumor Volume (mm3)\"])\n",
    "    outlier_tolerance[drug] = 1.5*iqr\n",
    "    median_tumorsize = np.median(latest_Tumor_size[latest_Tumor_size[\"Drug Regimen\"] == drug][\"Tumor Volume (mm3)\"])\n",
    "    print(f\"Median tumor size for {drug} is {median_tumorsize} and the IQR is {iqr}. The outlier range is below {median_tumorsize - outlier_tolerance[drug]} or above {median_tumorsize + outlier_tolerance[drug]}.\")\n",
    "    for tumor in tumor_volume_data[drug]:\n",
    "        if tumor > outlier_tolerance[drug] + median_tumorsize:\n",
    "            outlier_tumors[drug].append(tumor)\n",
    "        elif tumor < median_tumorsize - outlier_tolerance[drug]:\n",
    "            outlier_tumors[drug].append(tumor)\n",
    "\n",
    "outlier_tumors\n",
    "        \n",
    "    "
   ]
  },
  {
   "cell_type": "code",
   "execution_count": null,
   "metadata": {},
   "outputs": [],
   "source": [
    "# Generate a box plot of the final tumor volume of each mouse across four regimens of interest\n",
    "fig, ax = plt.subplots(2,2, figsize = (10,10))\n",
    "ax[(0,0)].boxplot(tumor_volume_data[\"Capomulin\"]);\n",
    "ax[(0,0)].set_title(\"Capomulin\");\n",
    "ax[(0,1)].boxplot(tumor_volume_data[\"Ramicane\"]);\n",
    "ax[(0,1)].set_title(\"Ramicane\");\n",
    "ax[(1,0)].boxplot(tumor_volume_data[\"Infubinol\"]);\n",
    "ax[(1,0)].set_title(\"Infubinol\");\n",
    "ax[(1,1)].boxplot(tumor_volume_data[\"Ceftamin\"]);\n",
    "ax[(1,1)].set_title(\"Ceftamin\");"
   ]
  },
  {
   "cell_type": "markdown",
   "metadata": {},
   "source": [
    "## Line and Scatter Plots"
   ]
  },
  {
   "cell_type": "code",
   "execution_count": null,
   "metadata": {},
   "outputs": [],
   "source": [
    "# Generate a line plot of tumor volume vs. time point for a mouse treated with Capomulin\n",
    "an_mouse = study_results[study_results[\"Mouse ID\"] == \"c139\"]\n",
    "an_mouse.head()\n",
    "plt.scatter(an_mouse[\"Timepoint\"],an_mouse[\"Tumor Volume (mm3)\"]);\n",
    "plt.title(\"Size of Mouse C139's Tumor over time\")\n",
    "plt.xlabel(\"Timepoint\")\n",
    "plt.ylabel(\"Volume of Tumors, in cubic millimeters\")\n",
    "plt.show()"
   ]
  },
  {
   "cell_type": "code",
   "execution_count": null,
   "metadata": {},
   "outputs": [],
   "source": [
    "# Generate a scatter plot of average tumor volume vs. mouse weight for the Capomulin regimen\n",
    "cap_mice = actual_merged_pd[actual_merged_pd[\"Drug Regimen\"] == \"Capomulin\"]\n",
    "cap_condensed = cap_mice.groupby(by = \"Mouse ID\").agg(\"mean\")\n",
    "cap_condenseder = cap_condensed.groupby(by = \"Weight (g)\").agg(\"mean\")\n",
    "plt.scatter(cap_condenseder.index, cap_condenseder[\"Tumor Volume (mm3)\"]);\n",
    "plt.title(\"Average Tumor size of mice enrolled in Capommulin Regimen by weight\")\n",
    "plt.xlabel(\"Weight in Grams\")\n",
    "plt.ylabel(\"Average Tumor Volume for Mice of that weight after Capomulin regimen\")\n",
    "#This chart is ugly as sin but it is technically correct."
   ]
  },
  {
   "cell_type": "markdown",
   "metadata": {},
   "source": [
    "## Correlation and Regression"
   ]
  },
  {
   "cell_type": "code",
   "execution_count": null,
   "metadata": {},
   "outputs": [],
   "source": [
    "# Calculate the correlation coefficient and linear regression model \n",
    "# for mouse weight and average tumor volume for the Capomulin regimen\n",
    "plt.scatter(cap_condenseder.index, cap_condenseder[\"Tumor Volume (mm3)\"]);\n",
    "m, b = np.polyfit(cap_condenseder.index, cap_condenseder[\"Tumor Volume (mm3)\"],1)\n",
    "plt.plot(cap_condenseder.index, m*cap_condenseder.index+ b)\n",
    "plt.title(\"Average Tumor size of mice enrolled in Capommulin Regimen by weight\")\n",
    "plt.xlabel(\"Weight in Grams\")\n",
    "plt.ylabel(\"Average Tumor Volume for Mice of that weight after Capomulin regimen\")"
   ]
  },
  {
   "cell_type": "code",
   "execution_count": null,
   "metadata": {},
   "outputs": [],
   "source": []
  }
 ],
 "metadata": {
  "anaconda-cloud": {},
  "kernelspec": {
   "display_name": "Python 3",
   "language": "python",
   "name": "python3"
  },
  "language_info": {
   "codemirror_mode": {
    "name": "ipython",
    "version": 3
   },
   "file_extension": ".py",
   "mimetype": "text/x-python",
   "name": "python",
   "nbconvert_exporter": "python",
   "pygments_lexer": "ipython3",
   "version": "3.6.10"
  }
 },
 "nbformat": 4,
 "nbformat_minor": 4
}
